{
 "cells": [
  {
   "cell_type": "markdown",
   "metadata": {},
   "source": [
    "# Playing with the dataset\n"
   ]
  },
  {
   "cell_type": "code",
   "execution_count": 49,
   "metadata": {},
   "outputs": [],
   "source": [
    "# Importing Python libraries\n",
    "import pandas\n",
    "import sys\n",
    "import re\n",
    "import matplotlib\n",
    "import matplotlib.pyplot as plt\n",
    "import seaborn as sns\n",
    "from collections import Counter\n",
    "\n",
    "# Importing our own files\n",
    "sys.path.append('../source')\n",
    "import unpack\n",
    "\n",
    "%matplotlib inline"
   ]
  },
  {
   "cell_type": "markdown",
   "metadata": {},
   "source": [
    "## Unpacking the training data"
   ]
  },
  {
   "cell_type": "code",
   "execution_count": 6,
   "metadata": {},
   "outputs": [],
   "source": [
    "train = unpack.unpack('train.json')"
   ]
  },
  {
   "cell_type": "markdown",
   "metadata": {},
   "source": [
    "## Putting data into pandas objects"
   ]
  },
  {
   "cell_type": "code",
   "execution_count": 7,
   "metadata": {},
   "outputs": [
    {
     "name": "stdout",
     "output_type": "stream",
     "text": [
      "Number of ingredients:  428275\n"
     ]
    }
   ],
   "source": [
    "ingredients = []\n",
    "for dish in train:\n",
    "    ingredients.extend(dish['ingredients'])\n",
    "\n",
    "print('Number of ingredients: ', len(ingredients))"
   ]
  },
  {
   "cell_type": "code",
   "execution_count": 8,
   "metadata": {},
   "outputs": [
    {
     "name": "stdout",
     "output_type": "stream",
     "text": [
      "Unique ingredients:  6714\n"
     ]
    }
   ],
   "source": [
    "unique = set(ingredients)\n",
    "print('Unique ingredients: ', len(unique))"
   ]
  },
  {
   "cell_type": "code",
   "execution_count": 20,
   "metadata": {},
   "outputs": [],
   "source": [
    "# put ingredients into pandas Series\n",
    "series = pandas.Series(ingredients)"
   ]
  },
  {
   "cell_type": "markdown",
   "metadata": {},
   "source": [
    "## Reducing the number of unique values"
   ]
  },
  {
   "cell_type": "code",
   "execution_count": 47,
   "metadata": {},
   "outputs": [],
   "source": [
    "def apply_and_count(func, series):\n",
    "    return series.apply(func).value_counts().count()\n",
    "\n",
    "def reduction(original, new):\n",
    "    return round(100 * (original - new) / original, 2)\n",
    "\n",
    "def effectiveness(func, series=series, total=6714):\n",
    "    new_total = apply_and_count(func, series)\n",
    "    print('New total: {} (reduced {}, {}%)'.format(new_total, total - new_total, reduction(total, new_total)))"
   ]
  },
  {
   "cell_type": "markdown",
   "metadata": {},
   "source": [
    "First, we can try converting all words to lower case."
   ]
  },
  {
   "cell_type": "code",
   "execution_count": 48,
   "metadata": {},
   "outputs": [
    {
     "name": "stdout",
     "output_type": "stream",
     "text": [
      "New total: 6703 (reduced 11, 0.16%)\n"
     ]
    }
   ],
   "source": [
    "effectiveness(str.lower)"
   ]
  },
  {
   "cell_type": "markdown",
   "metadata": {},
   "source": [
    "This is not especially useful. Let's try removing trademarks, registered symbols and copyrights."
   ]
  },
  {
   "cell_type": "code",
   "execution_count": 52,
   "metadata": {},
   "outputs": [
    {
     "name": "stdout",
     "output_type": "stream",
     "text": [
      "New total: 6714 (reduced 0, 0.0%)\n"
     ]
    }
   ],
   "source": [
    "effectiveness(lambda s: re.sub('(?:\\w+)(®|™|©)', '', s).strip())"
   ]
  },
  {
   "cell_type": "markdown",
   "metadata": {},
   "source": [
    "This is not a good approach!\n",
    "\n",
    "Let's try removing all measurements and numbers."
   ]
  },
  {
   "cell_type": "code",
   "execution_count": 57,
   "metadata": {},
   "outputs": [
    {
     "name": "stdout",
     "output_type": "stream",
     "text": [
      "New total: 6713 (reduced 1, 0.01%)\n"
     ]
    }
   ],
   "source": [
    "remove = [\n",
    "    \"cup\", \"cups\", \"teaspoon\", \"teaspoons\", \"tablespoon\", \"tablespoons\",\n",
    "    \"ounce\", \"ounces\", \"lb\", \"lbs\", \"tbs\", \"tsp\", \"oz \", \"oz.\" \"handful\", \n",
    "    \"inch\", \"can\"\n",
    "]\n",
    "\n",
    "def drop_units(s):\n",
    "    for r in remove:\n",
    "        s = s.replace(r, '')\n",
    "    return re.sub('\\d+/?\\d*', '', s).strip()\n",
    "\n",
    "effectiveness(drop_units)"
   ]
  },
  {
   "cell_type": "markdown",
   "metadata": {},
   "source": [
    "This approach is also not especially great.\n",
    "\n",
    "We will probably have to just drop ingredients that fall beneath a certain threshold; say 20 incidences?"
   ]
  },
  {
   "cell_type": "code",
   "execution_count": null,
   "metadata": {},
   "outputs": [],
   "source": [
    "counts = series.value_counts()\n",
    "\n",
    "thresholds = {}\n",
    "for n in [10, 20, 50, 100, 250, 500, 1000]:\n",
    "    thresholds[n] = counts[counts > n].count()\n",
    "\n"
   ]
  }
 ],
 "metadata": {
  "kernelspec": {
   "display_name": "Python 3",
   "language": "python",
   "name": "python3"
  },
  "language_info": {
   "codemirror_mode": {
    "name": "ipython",
    "version": 3
   },
   "file_extension": ".py",
   "mimetype": "text/x-python",
   "name": "python",
   "nbconvert_exporter": "python",
   "pygments_lexer": "ipython3",
   "version": "3.6.3"
  }
 },
 "nbformat": 4,
 "nbformat_minor": 2
}
